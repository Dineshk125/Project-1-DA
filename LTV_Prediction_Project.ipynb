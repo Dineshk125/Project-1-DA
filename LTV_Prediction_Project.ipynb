{
 "cells": [
  {
   "cell_type": "markdown",
   "id": "c0367ec3",
   "metadata": {},
   "source": [
    "# Customer Lifetime Value (LTV) Prediction\n",
    "\n",
    "This notebook demonstrates how to predict Customer Lifetime Value using a synthetic e-commerce dataset. We perform feature engineering, train a regression model, and evaluate its performance."
   ]
  },
  {
   "cell_type": "code",
   "execution_count": 5,
   "id": "e40c85b4",
   "metadata": {},
   "outputs": [
    {
     "ename": "ModuleNotFoundError",
     "evalue": "No module named 'pandas'",
     "output_type": "error",
     "traceback": [
      "\u001b[31m---------------------------------------------------------------------------\u001b[39m",
      "\u001b[31mModuleNotFoundError\u001b[39m                       Traceback (most recent call last)",
      "\u001b[36mCell\u001b[39m\u001b[36m \u001b[39m\u001b[32mIn[5]\u001b[39m\u001b[32m, line 1\u001b[39m\n\u001b[32m----> \u001b[39m\u001b[32m1\u001b[39m \u001b[38;5;28;01mimport\u001b[39;00m\u001b[38;5;250m \u001b[39m\u001b[34;01mpandas\u001b[39;00m\u001b[38;5;250m \u001b[39m\u001b[38;5;28;01mas\u001b[39;00m\u001b[38;5;250m \u001b[39m\u001b[34;01mpd\u001b[39;00m\n\u001b[32m      2\u001b[39m \u001b[38;5;28;01mimport\u001b[39;00m\u001b[38;5;250m \u001b[39m\u001b[34;01mnumpy\u001b[39;00m\u001b[38;5;250m \u001b[39m\u001b[38;5;28;01mas\u001b[39;00m\u001b[38;5;250m \u001b[39m\u001b[34;01mnp\u001b[39;00m\n\u001b[32m      3\u001b[39m \u001b[38;5;28;01mfrom\u001b[39;00m\u001b[38;5;250m \u001b[39m\u001b[34;01mdatetime\u001b[39;00m\u001b[38;5;250m \u001b[39m\u001b[38;5;28;01mimport\u001b[39;00m datetime\n",
      "\u001b[31mModuleNotFoundError\u001b[39m: No module named 'pandas'"
     ]
    }
   ],
   "source": [
    "import pandas as pd\n",
    "import numpy as np\n",
    "from datetime import datetime\n",
    "from sklearn.model_selection import train_test_split\n",
    "from sklearn.ensemble import RandomForestRegressor\n",
    "from sklearn.metrics import mean_absolute_error, mean_squared_error\n",
    "import matplotlib.pyplot as plt\n",
    "\n"
   ]
  },
  {
   "cell_type": "code",
   "execution_count": null,
   "id": "a624ac22",
   "metadata": {},
   "outputs": [],
   "source": [
    "# Load dataset\n",
    "df = pd.read_csv('transactions_sample.csv')\n",
    "df['InvoiceDate'] = pd.to_datetime(df['InvoiceDate'])\n",
    "df.head()"
   ]
  },
  {
   "cell_type": "code",
   "execution_count": null,
   "id": "bcd00ac8",
   "metadata": {},
   "outputs": [],
   "source": [
    "# Create total amount column\n",
    "df['TotalAmount'] = df['Quantity'] * df['UnitPrice']\n",
    "\n",
    "# Snapshot date for recency calculation\n",
    "snapshot_date = df['InvoiceDate'].max() + pd.Timedelta(days=1)\n",
    "\n",
    "# Aggregate customer features\n",
    "customer_df = df.groupby('CustomerID').agg({\n",
    "    'InvoiceDate': [lambda x: (snapshot_date - x.max()).days,  # Recency\n",
    "                    lambda x: (x.max() - x.min()).days],        # Tenure\n",
    "    'InvoiceNo': 'count',                                       # Frequency\n",
    "    'TotalAmount': 'sum'                                        # Monetary\n",
    "})\n",
    "customer_df.columns = ['Recency', 'Tenure', 'Frequency', 'Monetary']\n",
    "customer_df['AOV'] = customer_df['Monetary'] / customer_df['Frequency']\n",
    "customer_df.head()"
   ]
  },
  {
   "cell_type": "code",
   "execution_count": null,
   "id": "2e2160eb",
   "metadata": {},
   "outputs": [],
   "source": [
    "# Train a regression model\n",
    "X = customer_df[['Recency', 'Tenure', 'Frequency', 'AOV']]\n",
    "y = customer_df['Monetary']\n",
    "\n",
    "X_train, X_test, y_train, y_test = train_test_split(X, y, test_size=0.2, random_state=42)\n",
    "model = RandomForestRegressor()\n",
    "model.fit(X_train, y_train)\n",
    "predictions = model.predict(X_test)\n"
   ]
  },
  {
   "cell_type": "code",
   "execution_count": null,
   "id": "9841ac37",
   "metadata": {},
   "outputs": [],
   "source": [
    "# Evaluate the model\n",
    "mae = mean_absolute_error(y_test, predictions)\n",
    "rmse = mean_squared_error(y_test, predictions, squared=False)\n",
    "print(f'MAE: {mae:.2f}')\n",
    "print(f'RMSE: {rmse:.2f}')"
   ]
  },
  {
   "cell_type": "code",
   "execution_count": null,
   "id": "2d7230e9",
   "metadata": {},
   "outputs": [],
   "source": [
    "# Predict and segment customers\n",
    "customer_df['Predicted_LTV'] = model.predict(X)\n",
    "customer_df['Segment'] = pd.qcut(customer_df['Predicted_LTV'], q=3, labels=['Low', 'Medium', 'High'])\n",
    "customer_df.head()"
   ]
  },
  {
   "cell_type": "code",
   "execution_count": null,
   "id": "ddbfe2dc",
   "metadata": {},
   "outputs": [],
   "source": []
  },
  {
   "cell_type": "code",
   "execution_count": null,
   "id": "6e9ad7c2",
   "metadata": {},
   "outputs": [],
   "source": []
  },
  {
   "cell_type": "code",
   "execution_count": null,
   "id": "5a016e46",
   "metadata": {},
   "outputs": [],
   "source": []
  }
 ],
 "metadata": {
  "kernelspec": {
   "display_name": "Python 3",
   "language": "python",
   "name": "python3"
  },
  "language_info": {
   "codemirror_mode": {
    "name": "ipython",
    "version": 3
   },
   "file_extension": ".py",
   "mimetype": "text/x-python",
   "name": "python",
   "nbconvert_exporter": "python",
   "pygments_lexer": "ipython3",
   "version": "3.13.2"
  }
 },
 "nbformat": 4,
 "nbformat_minor": 5
}
